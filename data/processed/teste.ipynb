{
 "cells": [
  {
   "cell_type": "code",
   "execution_count": 5,
   "id": "7bb7f67e",
   "metadata": {},
   "outputs": [
    {
     "name": "stdout",
     "output_type": "stream",
     "text": [
      "Padronizado:\n",
      "Em ambos: 192\n",
      "Só IMDB: 521\n",
      "Só TMDB: 1301\n"
     ]
    }
   ],
   "source": [
    "import pandas as pd\n",
    "import re\n",
    "import unidecode  # pip install unidecode\n",
    "\n",
    "# carrega\n",
    "imdb = pd.read_csv(\"imdb_clean.csv\", usecols=[\"Series_Title\"])\n",
    "tmdb = pd.read_csv(\"tmdb_clean.csv\", usecols=[\"original_title\"])\n",
    "\n",
    "def normalize(s):\n",
    "    if pd.isna(s):\n",
    "        return \"\"\n",
    "    s = str(s).casefold()          # minúsculas robustas\n",
    "    s = unidecode.unidecode(s)     # tira acento\n",
    "    s = re.sub(r\"[^a-z0-9 ]\", \"\", s)  # mantém só letras/números/espaço\n",
    "    s = re.sub(r\"\\s+\", \" \", s)     # colapsa espaços\n",
    "    return s.strip()\n",
    "\n",
    "imdb[\"title_norm\"] = imdb[\"Series_Title\"].apply(normalize)\n",
    "tmdb[\"title_norm\"] = tmdb[\"original_title\"].apply(normalize)\n",
    "\n",
    "imdb_titles = set(imdb[\"title_norm\"])\n",
    "tmdb_titles = set(tmdb[\"title_norm\"])\n",
    "\n",
    "common = imdb_titles & tmdb_titles\n",
    "only_imdb = imdb_titles - tmdb_titles\n",
    "only_tmdb = tmdb_titles - imdb_titles\n",
    "\n",
    "print(\"Padronizado:\")\n",
    "print(\"Em ambos:\", len(common))\n",
    "print(\"Só IMDB:\", len(only_imdb))\n",
    "print(\"Só TMDB:\", len(only_tmdb))\n"
   ]
  },
  {
   "cell_type": "code",
   "execution_count": 4,
   "id": "9c0570f9",
   "metadata": {},
   "outputs": [
    {
     "name": "stdout",
     "output_type": "stream",
     "text": [
      "Collecting unidecode\n",
      "  Using cached Unidecode-1.4.0-py3-none-any.whl.metadata (13 kB)\n",
      "Using cached Unidecode-1.4.0-py3-none-any.whl (235 kB)\n",
      "Installing collected packages: unidecode\n",
      "Successfully installed unidecode-1.4.0\n",
      "Note: you may need to restart the kernel to use updated packages.\n"
     ]
    }
   ],
   "source": [
    "pip install unidecode"
   ]
  }
 ],
 "metadata": {
  "kernelspec": {
   "display_name": "venv",
   "language": "python",
   "name": "python3"
  },
  "language_info": {
   "codemirror_mode": {
    "name": "ipython",
    "version": 3
   },
   "file_extension": ".py",
   "mimetype": "text/x-python",
   "name": "python",
   "nbconvert_exporter": "python",
   "pygments_lexer": "ipython3",
   "version": "3.12.3"
  }
 },
 "nbformat": 4,
 "nbformat_minor": 5
}
